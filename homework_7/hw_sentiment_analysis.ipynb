{
 "cells": [
  {
   "cell_type": "code",
   "execution_count": 1,
   "metadata": {
    "collapsed": true
   },
   "outputs": [],
   "source": [
    "import pandas as pd\n",
    "import numpy as np\n",
    "from sklearn.model_selection import train_test_split, GridSearchCV\n",
    "from sklearn.preprocessing import LabelEncoder\n",
    "from sklearn import metrics\n",
    "\n",
    "import matplotlib.pyplot as plt\n",
    "import seaborn as sns\n",
    "\n",
    "%matplotlib inline\n",
    "\n",
    "\n",
    "SEED = 1337\n",
    "\n",
    "\n",
    "df = pd.read_csv('Tweets.csv')"
   ]
  },
  {
   "cell_type": "code",
   "execution_count": 7,
   "metadata": {
    "collapsed": true
   },
   "outputs": [],
   "source": [
    "# we can notice that negative < neutral < positive\n",
    "# let's encode that appropreately\n",
    "df.loc[df.airline_sentiment == 'negative', 'airline_sentiment'] = 0\n",
    "df.loc[df.airline_sentiment == 'neutral', 'airline_sentiment'] = 1\n",
    "df.loc[df.airline_sentiment == 'positive', 'airline_sentiment'] = 2"
   ]
  },
  {
   "cell_type": "code",
   "execution_count": 8,
   "metadata": {},
   "outputs": [
    {
     "data": {
      "text/html": [
       "<div>\n",
       "<style scoped>\n",
       "    .dataframe tbody tr th:only-of-type {\n",
       "        vertical-align: middle;\n",
       "    }\n",
       "\n",
       "    .dataframe tbody tr th {\n",
       "        vertical-align: top;\n",
       "    }\n",
       "\n",
       "    .dataframe thead th {\n",
       "        text-align: right;\n",
       "    }\n",
       "</style>\n",
       "<table border=\"1\" class=\"dataframe\">\n",
       "  <thead>\n",
       "    <tr style=\"text-align: right;\">\n",
       "      <th></th>\n",
       "      <th>tweet_id</th>\n",
       "      <th>airline_sentiment</th>\n",
       "      <th>airline</th>\n",
       "      <th>retweet_count</th>\n",
       "      <th>text</th>\n",
       "      <th>text_len</th>\n",
       "    </tr>\n",
       "  </thead>\n",
       "  <tbody>\n",
       "    <tr>\n",
       "      <th>0</th>\n",
       "      <td>570306133677760513</td>\n",
       "      <td>1</td>\n",
       "      <td>5</td>\n",
       "      <td>0</td>\n",
       "      <td>@VirginAmerica What @dhepburn said.</td>\n",
       "      <td>35</td>\n",
       "    </tr>\n",
       "    <tr>\n",
       "      <th>1</th>\n",
       "      <td>570301130888122368</td>\n",
       "      <td>2</td>\n",
       "      <td>5</td>\n",
       "      <td>0</td>\n",
       "      <td>@VirginAmerica plus you've added commercials t...</td>\n",
       "      <td>72</td>\n",
       "    </tr>\n",
       "    <tr>\n",
       "      <th>2</th>\n",
       "      <td>570301083672813571</td>\n",
       "      <td>1</td>\n",
       "      <td>5</td>\n",
       "      <td>0</td>\n",
       "      <td>@VirginAmerica I didn't today... Must mean I n...</td>\n",
       "      <td>71</td>\n",
       "    </tr>\n",
       "    <tr>\n",
       "      <th>3</th>\n",
       "      <td>570301031407624196</td>\n",
       "      <td>0</td>\n",
       "      <td>5</td>\n",
       "      <td>0</td>\n",
       "      <td>@VirginAmerica it's really aggressive to blast...</td>\n",
       "      <td>126</td>\n",
       "    </tr>\n",
       "    <tr>\n",
       "      <th>4</th>\n",
       "      <td>570300817074462722</td>\n",
       "      <td>0</td>\n",
       "      <td>5</td>\n",
       "      <td>0</td>\n",
       "      <td>@VirginAmerica and it's a really big bad thing...</td>\n",
       "      <td>55</td>\n",
       "    </tr>\n",
       "  </tbody>\n",
       "</table>\n",
       "</div>"
      ],
      "text/plain": [
       "             tweet_id  airline_sentiment  airline  retweet_count  \\\n",
       "0  570306133677760513                  1        5              0   \n",
       "1  570301130888122368                  2        5              0   \n",
       "2  570301083672813571                  1        5              0   \n",
       "3  570301031407624196                  0        5              0   \n",
       "4  570300817074462722                  0        5              0   \n",
       "\n",
       "                                                text  text_len  \n",
       "0                @VirginAmerica What @dhepburn said.        35  \n",
       "1  @VirginAmerica plus you've added commercials t...        72  \n",
       "2  @VirginAmerica I didn't today... Must mean I n...        71  \n",
       "3  @VirginAmerica it's really aggressive to blast...       126  \n",
       "4  @VirginAmerica and it's a really big bad thing...        55  "
      ]
     },
     "execution_count": 8,
     "metadata": {},
     "output_type": "execute_result"
    }
   ],
   "source": [
    "# encode airline as categorial variable\n",
    "airline_le = LabelEncoder()\n",
    "df['airline'] = airline_le.fit_transform(df.airline)\n",
    "df.head()"
   ]
  },
  {
   "cell_type": "code",
   "execution_count": 9,
   "metadata": {},
   "outputs": [
    {
     "name": "stdout",
     "output_type": "stream",
     "text": [
      "train 10980\n",
      "test 3660\n"
     ]
    }
   ],
   "source": [
    "y = df.airline_sentiment.values\n",
    "df_train, df_test, y_train, y_test = train_test_split(df, y, test_size=0.25, \n",
    "                                                                      stratify=y,\n",
    "                                                                      random_state=SEED, \n",
    "                                                                      shuffle=True)\n",
    "\n",
    "print('train', df_train.shape[0])\n",
    "print('test', df_test.shape[0])"
   ]
  },
  {
   "cell_type": "markdown",
   "metadata": {},
   "source": [
    "## Final model"
   ]
  },
  {
   "cell_type": "code",
   "execution_count": 10,
   "metadata": {},
   "outputs": [
    {
     "name": "stdout",
     "output_type": "stream",
     "text": [
      "Fitting 3 folds for each of 18 candidates, totalling 54 fits\n",
      "[CV] Cs=5, multi_class=ovr, solver=newton-cg .........................\n",
      "[CV] .......... Cs=5, multi_class=ovr, solver=newton-cg, total= 1.2min\n",
      "[CV] Cs=5, multi_class=ovr, solver=newton-cg .........................\n"
     ]
    },
    {
     "name": "stderr",
     "output_type": "stream",
     "text": [
      "[Parallel(n_jobs=1)]: Done   1 out of   1 | elapsed:  1.2min remaining:    0.0s\n"
     ]
    },
    {
     "name": "stdout",
     "output_type": "stream",
     "text": [
      "[CV] .......... Cs=5, multi_class=ovr, solver=newton-cg, total= 1.2min\n",
      "[CV] Cs=5, multi_class=ovr, solver=newton-cg .........................\n",
      "[CV] .......... Cs=5, multi_class=ovr, solver=newton-cg, total= 1.2min\n",
      "[CV] Cs=5, multi_class=ovr, solver=sag ...............................\n"
     ]
    },
    {
     "name": "stderr",
     "output_type": "stream",
     "text": [
      "C:\\Users\\Anastasia\\Anaconda3\\lib\\site-packages\\sklearn\\linear_model\\sag.py:326: ConvergenceWarning: The max_iter was reached which means the coef_ did not converge\n",
      "  \"the coef_ did not converge\", ConvergenceWarning)\n"
     ]
    },
    {
     "name": "stdout",
     "output_type": "stream",
     "text": [
      "[CV] ................ Cs=5, multi_class=ovr, solver=sag, total= 1.0min\n",
      "[CV] Cs=5, multi_class=ovr, solver=sag ...............................\n"
     ]
    },
    {
     "name": "stderr",
     "output_type": "stream",
     "text": [
      "C:\\Users\\Anastasia\\Anaconda3\\lib\\site-packages\\sklearn\\linear_model\\sag.py:326: ConvergenceWarning: The max_iter was reached which means the coef_ did not converge\n",
      "  \"the coef_ did not converge\", ConvergenceWarning)\n"
     ]
    },
    {
     "name": "stdout",
     "output_type": "stream",
     "text": [
      "[CV] ................ Cs=5, multi_class=ovr, solver=sag, total= 1.0min\n",
      "[CV] Cs=5, multi_class=ovr, solver=sag ...............................\n"
     ]
    },
    {
     "name": "stderr",
     "output_type": "stream",
     "text": [
      "C:\\Users\\Anastasia\\Anaconda3\\lib\\site-packages\\sklearn\\linear_model\\sag.py:326: ConvergenceWarning: The max_iter was reached which means the coef_ did not converge\n",
      "  \"the coef_ did not converge\", ConvergenceWarning)\n"
     ]
    },
    {
     "name": "stdout",
     "output_type": "stream",
     "text": [
      "[CV] ................ Cs=5, multi_class=ovr, solver=sag, total= 1.2min\n",
      "[CV] Cs=5, multi_class=ovr, solver=lbfgs .............................\n",
      "[CV] .............. Cs=5, multi_class=ovr, solver=lbfgs, total=  38.9s\n",
      "[CV] Cs=5, multi_class=ovr, solver=lbfgs .............................\n",
      "[CV] .............. Cs=5, multi_class=ovr, solver=lbfgs, total=  39.7s\n",
      "[CV] Cs=5, multi_class=ovr, solver=lbfgs .............................\n",
      "[CV] .............. Cs=5, multi_class=ovr, solver=lbfgs, total=  40.0s\n",
      "[CV] Cs=5, multi_class=multinomial, solver=newton-cg .................\n",
      "[CV] .. Cs=5, multi_class=multinomial, solver=newton-cg, total= 1.3min\n",
      "[CV] Cs=5, multi_class=multinomial, solver=newton-cg .................\n",
      "[CV] .. Cs=5, multi_class=multinomial, solver=newton-cg, total= 1.4min\n",
      "[CV] Cs=5, multi_class=multinomial, solver=newton-cg .................\n",
      "[CV] .. Cs=5, multi_class=multinomial, solver=newton-cg, total= 1.4min\n",
      "[CV] Cs=5, multi_class=multinomial, solver=sag .......................\n"
     ]
    },
    {
     "name": "stderr",
     "output_type": "stream",
     "text": [
      "C:\\Users\\Anastasia\\Anaconda3\\lib\\site-packages\\sklearn\\linear_model\\sag.py:326: ConvergenceWarning: The max_iter was reached which means the coef_ did not converge\n",
      "  \"the coef_ did not converge\", ConvergenceWarning)\n"
     ]
    },
    {
     "name": "stdout",
     "output_type": "stream",
     "text": [
      "[CV] ........ Cs=5, multi_class=multinomial, solver=sag, total=  35.7s\n",
      "[CV] Cs=5, multi_class=multinomial, solver=sag .......................\n"
     ]
    },
    {
     "name": "stderr",
     "output_type": "stream",
     "text": [
      "C:\\Users\\Anastasia\\Anaconda3\\lib\\site-packages\\sklearn\\linear_model\\sag.py:326: ConvergenceWarning: The max_iter was reached which means the coef_ did not converge\n",
      "  \"the coef_ did not converge\", ConvergenceWarning)\n"
     ]
    },
    {
     "name": "stdout",
     "output_type": "stream",
     "text": [
      "[CV] ........ Cs=5, multi_class=multinomial, solver=sag, total=  33.6s\n",
      "[CV] Cs=5, multi_class=multinomial, solver=sag .......................\n"
     ]
    },
    {
     "name": "stderr",
     "output_type": "stream",
     "text": [
      "C:\\Users\\Anastasia\\Anaconda3\\lib\\site-packages\\sklearn\\linear_model\\sag.py:326: ConvergenceWarning: The max_iter was reached which means the coef_ did not converge\n",
      "  \"the coef_ did not converge\", ConvergenceWarning)\n"
     ]
    },
    {
     "name": "stdout",
     "output_type": "stream",
     "text": [
      "[CV] ........ Cs=5, multi_class=multinomial, solver=sag, total=  29.6s\n",
      "[CV] Cs=5, multi_class=multinomial, solver=lbfgs .....................\n",
      "[CV] ...... Cs=5, multi_class=multinomial, solver=lbfgs, total=  58.1s\n",
      "[CV] Cs=5, multi_class=multinomial, solver=lbfgs .....................\n",
      "[CV] ...... Cs=5, multi_class=multinomial, solver=lbfgs, total=  48.9s\n",
      "[CV] Cs=5, multi_class=multinomial, solver=lbfgs .....................\n",
      "[CV] ...... Cs=5, multi_class=multinomial, solver=lbfgs, total=  44.2s\n",
      "[CV] Cs=10, multi_class=ovr, solver=newton-cg ........................\n",
      "[CV] ......... Cs=10, multi_class=ovr, solver=newton-cg, total= 1.7min\n",
      "[CV] Cs=10, multi_class=ovr, solver=newton-cg ........................\n",
      "[CV] ......... Cs=10, multi_class=ovr, solver=newton-cg, total= 1.9min\n",
      "[CV] Cs=10, multi_class=ovr, solver=newton-cg ........................\n",
      "[CV] ......... Cs=10, multi_class=ovr, solver=newton-cg, total= 1.8min\n",
      "[CV] Cs=10, multi_class=ovr, solver=sag ..............................\n"
     ]
    },
    {
     "name": "stderr",
     "output_type": "stream",
     "text": [
      "C:\\Users\\Anastasia\\Anaconda3\\lib\\site-packages\\sklearn\\linear_model\\sag.py:326: ConvergenceWarning: The max_iter was reached which means the coef_ did not converge\n",
      "  \"the coef_ did not converge\", ConvergenceWarning)\n"
     ]
    },
    {
     "name": "stdout",
     "output_type": "stream",
     "text": [
      "[CV] ............... Cs=10, multi_class=ovr, solver=sag, total= 1.7min\n",
      "[CV] Cs=10, multi_class=ovr, solver=sag ..............................\n"
     ]
    },
    {
     "name": "stderr",
     "output_type": "stream",
     "text": [
      "C:\\Users\\Anastasia\\Anaconda3\\lib\\site-packages\\sklearn\\linear_model\\sag.py:326: ConvergenceWarning: The max_iter was reached which means the coef_ did not converge\n",
      "  \"the coef_ did not converge\", ConvergenceWarning)\n"
     ]
    },
    {
     "name": "stdout",
     "output_type": "stream",
     "text": [
      "[CV] ............... Cs=10, multi_class=ovr, solver=sag, total= 1.7min\n",
      "[CV] Cs=10, multi_class=ovr, solver=sag ..............................\n"
     ]
    },
    {
     "name": "stderr",
     "output_type": "stream",
     "text": [
      "C:\\Users\\Anastasia\\Anaconda3\\lib\\site-packages\\sklearn\\linear_model\\sag.py:326: ConvergenceWarning: The max_iter was reached which means the coef_ did not converge\n",
      "  \"the coef_ did not converge\", ConvergenceWarning)\n"
     ]
    },
    {
     "name": "stdout",
     "output_type": "stream",
     "text": [
      "[CV] ............... Cs=10, multi_class=ovr, solver=sag, total= 1.7min\n",
      "[CV] Cs=10, multi_class=ovr, solver=lbfgs ............................\n",
      "[CV] ............. Cs=10, multi_class=ovr, solver=lbfgs, total= 1.3min\n",
      "[CV] Cs=10, multi_class=ovr, solver=lbfgs ............................\n",
      "[CV] ............. Cs=10, multi_class=ovr, solver=lbfgs, total= 1.3min\n",
      "[CV] Cs=10, multi_class=ovr, solver=lbfgs ............................\n",
      "[CV] ............. Cs=10, multi_class=ovr, solver=lbfgs, total= 1.2min\n",
      "[CV] Cs=10, multi_class=multinomial, solver=newton-cg ................\n",
      "[CV] . Cs=10, multi_class=multinomial, solver=newton-cg, total= 1.9min\n",
      "[CV] Cs=10, multi_class=multinomial, solver=newton-cg ................\n",
      "[CV] . Cs=10, multi_class=multinomial, solver=newton-cg, total= 2.1min\n",
      "[CV] Cs=10, multi_class=multinomial, solver=newton-cg ................\n",
      "[CV] . Cs=10, multi_class=multinomial, solver=newton-cg, total= 2.1min\n",
      "[CV] Cs=10, multi_class=multinomial, solver=sag ......................\n"
     ]
    },
    {
     "name": "stderr",
     "output_type": "stream",
     "text": [
      "C:\\Users\\Anastasia\\Anaconda3\\lib\\site-packages\\sklearn\\linear_model\\sag.py:326: ConvergenceWarning: The max_iter was reached which means the coef_ did not converge\n",
      "  \"the coef_ did not converge\", ConvergenceWarning)\n"
     ]
    },
    {
     "name": "stdout",
     "output_type": "stream",
     "text": [
      "[CV] ....... Cs=10, multi_class=multinomial, solver=sag, total= 1.3min\n",
      "[CV] Cs=10, multi_class=multinomial, solver=sag ......................\n"
     ]
    },
    {
     "name": "stderr",
     "output_type": "stream",
     "text": [
      "C:\\Users\\Anastasia\\Anaconda3\\lib\\site-packages\\sklearn\\linear_model\\sag.py:326: ConvergenceWarning: The max_iter was reached which means the coef_ did not converge\n",
      "  \"the coef_ did not converge\", ConvergenceWarning)\n"
     ]
    },
    {
     "name": "stdout",
     "output_type": "stream",
     "text": [
      "[CV] ....... Cs=10, multi_class=multinomial, solver=sag, total= 1.1min\n",
      "[CV] Cs=10, multi_class=multinomial, solver=sag ......................\n"
     ]
    },
    {
     "name": "stderr",
     "output_type": "stream",
     "text": [
      "C:\\Users\\Anastasia\\Anaconda3\\lib\\site-packages\\sklearn\\linear_model\\sag.py:326: ConvergenceWarning: The max_iter was reached which means the coef_ did not converge\n",
      "  \"the coef_ did not converge\", ConvergenceWarning)\n"
     ]
    },
    {
     "name": "stdout",
     "output_type": "stream",
     "text": [
      "[CV] ....... Cs=10, multi_class=multinomial, solver=sag, total=  58.2s\n",
      "[CV] Cs=10, multi_class=multinomial, solver=lbfgs ....................\n",
      "[CV] ..... Cs=10, multi_class=multinomial, solver=lbfgs, total= 1.4min\n",
      "[CV] Cs=10, multi_class=multinomial, solver=lbfgs ....................\n",
      "[CV] ..... Cs=10, multi_class=multinomial, solver=lbfgs, total= 1.4min\n",
      "[CV] Cs=10, multi_class=multinomial, solver=lbfgs ....................\n",
      "[CV] ..... Cs=10, multi_class=multinomial, solver=lbfgs, total= 1.4min\n",
      "[CV] Cs=15, multi_class=ovr, solver=newton-cg ........................\n",
      "[CV] ......... Cs=15, multi_class=ovr, solver=newton-cg, total= 2.1min\n",
      "[CV] Cs=15, multi_class=ovr, solver=newton-cg ........................\n",
      "[CV] ......... Cs=15, multi_class=ovr, solver=newton-cg, total= 2.2min\n",
      "[CV] Cs=15, multi_class=ovr, solver=newton-cg ........................\n",
      "[CV] ......... Cs=15, multi_class=ovr, solver=newton-cg, total= 2.1min\n",
      "[CV] Cs=15, multi_class=ovr, solver=sag ..............................\n"
     ]
    },
    {
     "name": "stderr",
     "output_type": "stream",
     "text": [
      "C:\\Users\\Anastasia\\Anaconda3\\lib\\site-packages\\sklearn\\linear_model\\sag.py:326: ConvergenceWarning: The max_iter was reached which means the coef_ did not converge\n",
      "  \"the coef_ did not converge\", ConvergenceWarning)\n"
     ]
    },
    {
     "name": "stdout",
     "output_type": "stream",
     "text": [
      "[CV] ............... Cs=15, multi_class=ovr, solver=sag, total= 2.4min\n",
      "[CV] Cs=15, multi_class=ovr, solver=sag ..............................\n"
     ]
    },
    {
     "name": "stderr",
     "output_type": "stream",
     "text": [
      "C:\\Users\\Anastasia\\Anaconda3\\lib\\site-packages\\sklearn\\linear_model\\sag.py:326: ConvergenceWarning: The max_iter was reached which means the coef_ did not converge\n",
      "  \"the coef_ did not converge\", ConvergenceWarning)\n"
     ]
    },
    {
     "name": "stdout",
     "output_type": "stream",
     "text": [
      "[CV] ............... Cs=15, multi_class=ovr, solver=sag, total= 2.2min\n",
      "[CV] Cs=15, multi_class=ovr, solver=sag ..............................\n"
     ]
    },
    {
     "name": "stderr",
     "output_type": "stream",
     "text": [
      "C:\\Users\\Anastasia\\Anaconda3\\lib\\site-packages\\sklearn\\linear_model\\sag.py:326: ConvergenceWarning: The max_iter was reached which means the coef_ did not converge\n",
      "  \"the coef_ did not converge\", ConvergenceWarning)\n"
     ]
    },
    {
     "name": "stdout",
     "output_type": "stream",
     "text": [
      "[CV] ............... Cs=15, multi_class=ovr, solver=sag, total= 2.3min\n",
      "[CV] Cs=15, multi_class=ovr, solver=lbfgs ............................\n",
      "[CV] ............. Cs=15, multi_class=ovr, solver=lbfgs, total= 1.5min\n",
      "[CV] Cs=15, multi_class=ovr, solver=lbfgs ............................\n",
      "[CV] ............. Cs=15, multi_class=ovr, solver=lbfgs, total= 1.6min\n",
      "[CV] Cs=15, multi_class=ovr, solver=lbfgs ............................\n",
      "[CV] ............. Cs=15, multi_class=ovr, solver=lbfgs, total= 1.6min\n",
      "[CV] Cs=15, multi_class=multinomial, solver=newton-cg ................\n",
      "[CV] . Cs=15, multi_class=multinomial, solver=newton-cg, total= 2.2min\n",
      "[CV] Cs=15, multi_class=multinomial, solver=newton-cg ................\n",
      "[CV] . Cs=15, multi_class=multinomial, solver=newton-cg, total= 2.4min\n",
      "[CV] Cs=15, multi_class=multinomial, solver=newton-cg ................\n",
      "[CV] . Cs=15, multi_class=multinomial, solver=newton-cg, total= 2.3min\n",
      "[CV] Cs=15, multi_class=multinomial, solver=sag ......................\n"
     ]
    },
    {
     "name": "stderr",
     "output_type": "stream",
     "text": [
      "C:\\Users\\Anastasia\\Anaconda3\\lib\\site-packages\\sklearn\\linear_model\\sag.py:326: ConvergenceWarning: The max_iter was reached which means the coef_ did not converge\n",
      "  \"the coef_ did not converge\", ConvergenceWarning)\n"
     ]
    },
    {
     "name": "stdout",
     "output_type": "stream",
     "text": [
      "[CV] ....... Cs=15, multi_class=multinomial, solver=sag, total= 1.4min\n",
      "[CV] Cs=15, multi_class=multinomial, solver=sag ......................\n"
     ]
    },
    {
     "name": "stderr",
     "output_type": "stream",
     "text": [
      "C:\\Users\\Anastasia\\Anaconda3\\lib\\site-packages\\sklearn\\linear_model\\sag.py:326: ConvergenceWarning: The max_iter was reached which means the coef_ did not converge\n",
      "  \"the coef_ did not converge\", ConvergenceWarning)\n"
     ]
    },
    {
     "name": "stdout",
     "output_type": "stream",
     "text": [
      "[CV] ....... Cs=15, multi_class=multinomial, solver=sag, total= 1.5min\n",
      "[CV] Cs=15, multi_class=multinomial, solver=sag ......................\n"
     ]
    },
    {
     "name": "stderr",
     "output_type": "stream",
     "text": [
      "C:\\Users\\Anastasia\\Anaconda3\\lib\\site-packages\\sklearn\\linear_model\\sag.py:326: ConvergenceWarning: The max_iter was reached which means the coef_ did not converge\n",
      "  \"the coef_ did not converge\", ConvergenceWarning)\n"
     ]
    },
    {
     "name": "stdout",
     "output_type": "stream",
     "text": [
      "[CV] ....... Cs=15, multi_class=multinomial, solver=sag, total= 1.4min\n",
      "[CV] Cs=15, multi_class=multinomial, solver=lbfgs ....................\n",
      "[CV] ..... Cs=15, multi_class=multinomial, solver=lbfgs, total= 2.5min\n",
      "[CV] Cs=15, multi_class=multinomial, solver=lbfgs ....................\n",
      "[CV] ..... Cs=15, multi_class=multinomial, solver=lbfgs, total= 3.0min\n",
      "[CV] Cs=15, multi_class=multinomial, solver=lbfgs ....................\n",
      "[CV] ..... Cs=15, multi_class=multinomial, solver=lbfgs, total= 2.7min\n"
     ]
    },
    {
     "name": "stderr",
     "output_type": "stream",
     "text": [
      "[Parallel(n_jobs=1)]: Done  54 out of  54 | elapsed: 82.4min finished\n"
     ]
    },
    {
     "name": "stdout",
     "output_type": "stream",
     "text": [
      "0.797449908925\n",
      "{'Cs': 15, 'multi_class': 'ovr', 'solver': 'newton-cg'}\n",
      "Wall time: 1h 27min 6s\n"
     ]
    }
   ],
   "source": [
    "%%time\n",
    "\n",
    "#best params\n",
    "from sklearn.pipeline import Pipeline\n",
    "from sklearn.linear_model import LogisticRegressionCV\n",
    "from sklearn.feature_extraction.text import TfidfVectorizer\n",
    "from nltk.corpus import stopwords\n",
    "from sklearn.model_selection import GridSearchCV\n",
    "\n",
    "parameters = {'Cs':[5, 10, 15], 'solver':('newton-cg', 'sag', 'lbfgs'), \n",
    "              'multi_class':('ovr', 'multinomial')}\n",
    "\n",
    "tfidf = TfidfVectorizer(analyzer='char', use_idf=True, smooth_idf=True,\n",
    "                                  lowercase=True, \n",
    "                                  stop_words=stopwords.words('english'),\n",
    "                                  min_df=5,\n",
    "                                  ngram_range=(1,3), norm='l2')\n",
    "\n",
    "X_train = tfidf.fit_transform(df_train.text)\n",
    "\n",
    "lr = LogisticRegressionCV()\n",
    "clf = GridSearchCV(lr, parameters, verbose=2)\n",
    "clf.fit(X_train, y_train)\n",
    "\n",
    "print(clf.best_score_)\n",
    "print(clf.best_params_)"
   ]
  },
  {
   "cell_type": "code",
   "execution_count": 14,
   "metadata": {},
   "outputs": [
    {
     "name": "stdout",
     "output_type": "stream",
     "text": [
      "train 0.892099939116\n",
      "test 0.73595013939\n"
     ]
    }
   ],
   "source": [
    "model = Pipeline([\n",
    "    ('tfidf', TfidfVectorizer(analyzer='char', use_idf=True, smooth_idf=True,\n",
    "                                  lowercase=True, \n",
    "                                  stop_words=stopwords.words('english'),\n",
    "                                  min_df=7,\n",
    "                                  ngram_range=(1,3), norm='l2')),\n",
    "    ('lr', LogisticRegressionCV(Cs=15, \n",
    "                                    cv=5, \n",
    "                                    solver='newton-cg',\n",
    "                                    scoring='f1_macro', \n",
    "                                    n_jobs=-1, \n",
    "                                    multi_class='ovr', random_state=SEED))\n",
    "])\n",
    "\n",
    "model.fit(df_train.text, y_train)\n",
    "print('train', metrics.f1_score(y_train, model.predict(df_train.text), average='macro'))\n",
    "print('test', metrics.f1_score(y_test, model.predict(df_test.text), average='macro'))"
   ]
  }
 ],
 "metadata": {
  "kernelspec": {
   "display_name": "Python 3",
   "language": "python",
   "name": "python3"
  },
  "language_info": {
   "codemirror_mode": {
    "name": "ipython",
    "version": 3
   },
   "file_extension": ".py",
   "mimetype": "text/x-python",
   "name": "python",
   "nbconvert_exporter": "python",
   "pygments_lexer": "ipython3",
   "version": "3.6.3"
  }
 },
 "nbformat": 4,
 "nbformat_minor": 2
}
