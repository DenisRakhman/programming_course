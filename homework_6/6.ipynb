{
 "cells": [
  {
   "cell_type": "markdown",
   "metadata": {},
   "source": [
    "# Binary classfication"
   ]
  },
  {
   "cell_type": "code",
   "execution_count": 1,
   "metadata": {
    "collapsed": true
   },
   "outputs": [],
   "source": [
    "import pandas as pd\n",
    "import numpy as np\n",
    "from sklearn.linear_model import LogisticRegression\n",
    "from sklearn.naive_bayes import MultinomialNB\n",
    "from sklearn import metrics\n",
    "from sklearn import model_selection\n",
    "\n",
    "import matplotlib.pyplot as plt\n",
    "import seaborn\n",
    "%matplotlib inline"
   ]
  },
  {
   "cell_type": "markdown",
   "metadata": {},
   "source": [
    "### Home task: Spam detection\n",
    "\n",
    "Для заданной тестовой выборки построить модель для предсказания является ли sms сообщение спамом.  \n",
    "На заданном разбиении (df_train, df_test) ваша модель должна превзойти baseline'ы, приведенные ниже.  \n",
    "\n",
    "Чем больше baseline'ов вы превзойдете, тем выше ваша оценка\n",
    "Метрика качества F1\n",
    "\n",
    "\n",
    "baseline 1: 0.9444      bag of words + Multinomial Naive Bayes  \n",
    "baseline 2: 0.9490      symbol 3-grams with IDF and l2-norm + Logistic Regression  \n",
    "baseline 3: 0.9636      text stemming + baseline 2  \n",
    "\n",
    "\n",
    "! Your results must be reproducible. Если ваша модель - стохастическая (как например LogisticRegression), то вы явно должны задавать все seed и random_state в параметрах моделей  \n",
    "! Вы должны использовать df_test только для измерения качества конечной обученной модели. "
   ]
  },
  {
   "cell_type": "code",
   "execution_count": 4,
   "metadata": {},
   "outputs": [
    {
     "data": {
      "text/html": [
       "<div>\n",
       "<style scoped>\n",
       "    .dataframe tbody tr th:only-of-type {\n",
       "        vertical-align: middle;\n",
       "    }\n",
       "\n",
       "    .dataframe tbody tr th {\n",
       "        vertical-align: top;\n",
       "    }\n",
       "\n",
       "    .dataframe thead th {\n",
       "        text-align: right;\n",
       "    }\n",
       "</style>\n",
       "<table border=\"1\" class=\"dataframe\">\n",
       "  <thead>\n",
       "    <tr style=\"text-align: right;\">\n",
       "      <th></th>\n",
       "      <th>target</th>\n",
       "      <th>text</th>\n",
       "    </tr>\n",
       "  </thead>\n",
       "  <tbody>\n",
       "    <tr>\n",
       "      <th>0</th>\n",
       "      <td>ham</td>\n",
       "      <td>Go until jurong point, crazy.. Available only ...</td>\n",
       "    </tr>\n",
       "    <tr>\n",
       "      <th>1</th>\n",
       "      <td>ham</td>\n",
       "      <td>Ok lar... Joking wif u oni...</td>\n",
       "    </tr>\n",
       "    <tr>\n",
       "      <th>2</th>\n",
       "      <td>spam</td>\n",
       "      <td>Free entry in 2 a wkly comp to win FA Cup fina...</td>\n",
       "    </tr>\n",
       "    <tr>\n",
       "      <th>3</th>\n",
       "      <td>ham</td>\n",
       "      <td>U dun say so early hor... U c already then say...</td>\n",
       "    </tr>\n",
       "    <tr>\n",
       "      <th>4</th>\n",
       "      <td>ham</td>\n",
       "      <td>Nah I don't think he goes to usf, he lives aro...</td>\n",
       "    </tr>\n",
       "  </tbody>\n",
       "</table>\n",
       "</div>"
      ],
      "text/plain": [
       "  target                                               text\n",
       "0    ham  Go until jurong point, crazy.. Available only ...\n",
       "1    ham                      Ok lar... Joking wif u oni...\n",
       "2   spam  Free entry in 2 a wkly comp to win FA Cup fina...\n",
       "3    ham  U dun say so early hor... U c already then say...\n",
       "4    ham  Nah I don't think he goes to usf, he lives aro..."
      ]
     },
     "execution_count": 4,
     "metadata": {},
     "output_type": "execute_result"
    }
   ],
   "source": [
    "#load dataset\n",
    "df = pd.read_csv('spam.csv', encoding='latin-1')\n",
    "df = df[['v1', 'v2']]\n",
    "df = df.rename(columns={'v1': 'target', 'v2': 'text'})\n",
    "df.head()"
   ]
  },
  {
   "cell_type": "code",
   "execution_count": 5,
   "metadata": {},
   "outputs": [
    {
     "data": {
      "text/plain": [
       "(5572, 2)"
      ]
     },
     "execution_count": 5,
     "metadata": {},
     "output_type": "execute_result"
    }
   ],
   "source": [
    "# dataset size\n",
    "df.shape"
   ]
  },
  {
   "cell_type": "code",
   "execution_count": 6,
   "metadata": {},
   "outputs": [
    {
     "data": {
      "text/plain": [
       "ham     0.865937\n",
       "spam    0.134063\n",
       "Name: target, dtype: float64"
      ]
     },
     "execution_count": 6,
     "metadata": {},
     "output_type": "execute_result"
    }
   ],
   "source": [
    "# class proportions\n",
    "df.target.value_counts(normalize=True)"
   ]
  },
  {
   "cell_type": "code",
   "execution_count": 7,
   "metadata": {},
   "outputs": [
    {
     "name": "stdout",
     "output_type": "stream",
     "text": [
      "train size 3343, test size 2229\n"
     ]
    }
   ],
   "source": [
    "# Use  df_train for model training\n",
    "# Use df_test as  hold-out dataset for your final model perfomance estimation.\n",
    "# You cannot change  this splitting\n",
    "# All results must be reproducible\n",
    "SEED = 1337\n",
    "df_train, df_test = model_selection.train_test_split(df, test_size=0.4, random_state=SEED, shuffle=True, stratify=df.target)\n",
    "print('train size %d, test size %d' % (df_train.shape[0], df_test.shape[0]))"
   ]
  },
  {
   "cell_type": "markdown",
   "metadata": {},
   "source": [
    "## Baseline 4"
   ]
  },
  {
   "cell_type": "code",
   "execution_count": 11,
   "metadata": {
    "collapsed": true
   },
   "outputs": [],
   "source": [
    "from sklearn.feature_extraction.text import TfidfVectorizer\n",
    "from sklearn.preprocessing import LabelEncoder\n",
    "from sklearn.model_selection import GridSearchCV"
   ]
  },
  {
   "cell_type": "code",
   "execution_count": 47,
   "metadata": {},
   "outputs": [],
   "source": [
    "tfidf = TfidfVectorizer(lowercase=True, analyzer='word', norm='l2')\n",
    "\n",
    "X_train = tfidf.fit_transform(df_train.text)\n",
    "\n",
    "label_enc = LabelEncoder().fit(df_train.target)\n",
    "y_train = label_enc.transform(df_train.target)"
   ]
  },
  {
   "cell_type": "code",
   "execution_count": 48,
   "metadata": {},
   "outputs": [
    {
     "name": "stdout",
     "output_type": "stream",
     "text": [
      "Fitting 3 folds for each of 8 candidates, totalling 24 fits\n",
      "[CV] C=1, loss=hinge .................................................\n",
      "[CV] .................................. C=1, loss=hinge, total=   0.0s\n",
      "[CV] C=1, loss=hinge .................................................\n",
      "[CV] .................................. C=1, loss=hinge, total=   0.0s\n",
      "[CV] C=1, loss=hinge .................................................\n",
      "[CV] .................................. C=1, loss=hinge, total=   0.0s\n",
      "[CV] C=1, loss=squared_hinge .........................................\n",
      "[CV] .......................... C=1, loss=squared_hinge, total=   0.0s\n",
      "[CV] C=1, loss=squared_hinge .........................................\n",
      "[CV] .......................... C=1, loss=squared_hinge, total=   0.0s\n",
      "[CV] C=1, loss=squared_hinge .........................................\n",
      "[CV] .......................... C=1, loss=squared_hinge, total=   0.0s\n",
      "[CV] C=3, loss=hinge .................................................\n",
      "[CV] .................................. C=3, loss=hinge, total=   0.0s\n",
      "[CV] C=3, loss=hinge .................................................\n",
      "[CV] .................................. C=3, loss=hinge, total=   0.0s\n",
      "[CV] C=3, loss=hinge .................................................\n",
      "[CV] .................................. C=3, loss=hinge, total=   0.0s\n",
      "[CV] C=3, loss=squared_hinge .........................................\n",
      "[CV] .......................... C=3, loss=squared_hinge, total=   0.0s\n",
      "[CV] C=3, loss=squared_hinge .........................................\n",
      "[CV] .......................... C=3, loss=squared_hinge, total=   0.0s\n",
      "[CV] C=3, loss=squared_hinge .........................................\n",
      "[CV] .......................... C=3, loss=squared_hinge, total=   0.0s\n",
      "[CV] C=5, loss=hinge .................................................\n",
      "[CV] .................................. C=5, loss=hinge, total=   0.0s\n",
      "[CV] C=5, loss=hinge .................................................\n",
      "[CV] .................................. C=5, loss=hinge, total=   0.0s\n",
      "[CV] C=5, loss=hinge .................................................\n",
      "[CV] .................................. C=5, loss=hinge, total=   0.0s\n",
      "[CV] C=5, loss=squared_hinge .........................................\n",
      "[CV] .......................... C=5, loss=squared_hinge, total=   0.0s\n",
      "[CV] C=5, loss=squared_hinge .........................................\n",
      "[CV] .......................... C=5, loss=squared_hinge, total=   0.0s"
     ]
    },
    {
     "name": "stderr",
     "output_type": "stream",
     "text": [
      "[Parallel(n_jobs=1)]: Done   1 out of   1 | elapsed:    0.0s remaining:    0.0s\n"
     ]
    },
    {
     "name": "stdout",
     "output_type": "stream",
     "text": [
      "\n",
      "[CV] C=5, loss=squared_hinge .........................................\n",
      "[CV] .......................... C=5, loss=squared_hinge, total=   0.0s\n",
      "[CV] C=7, loss=hinge .................................................\n",
      "[CV] .................................. C=7, loss=hinge, total=   0.0s\n",
      "[CV] C=7, loss=hinge .................................................\n",
      "[CV] .................................. C=7, loss=hinge, total=   0.0s\n",
      "[CV] C=7, loss=hinge .................................................\n",
      "[CV] .................................. C=7, loss=hinge, total=   0.0s\n",
      "[CV] C=7, loss=squared_hinge .........................................\n",
      "[CV] .......................... C=7, loss=squared_hinge, total=   0.0s\n",
      "[CV] C=7, loss=squared_hinge .........................................\n",
      "[CV] .......................... C=7, loss=squared_hinge, total=   0.0s\n",
      "[CV] C=7, loss=squared_hinge .........................................\n",
      "[CV] .......................... C=7, loss=squared_hinge, total=   0.0s\n",
      "{'C': 3, 'loss': 'hinge'}\n"
     ]
    },
    {
     "name": "stderr",
     "output_type": "stream",
     "text": [
      "[Parallel(n_jobs=1)]: Done  24 out of  24 | elapsed:    0.3s finished\n"
     ]
    }
   ],
   "source": [
    "from sklearn.svm import LinearSVC\n",
    "from sklearn import warnings\n",
    "\n",
    "with warnings.catch_warnings():\n",
    "    warnings.simplefilter(\"ignore\")\n",
    "    clf = GridSearchCV(LinearSVC(random_state=SEED), \n",
    "                       {'loss': ('hinge', 'squared_hinge'),\n",
    "                        'C':[1, 3, 5, 7]}, \n",
    "                        verbose=2)\n",
    "    clf.fit(X_train, y_train)\n",
    "    print(clf.best_params_)"
   ]
  },
  {
   "cell_type": "code",
   "execution_count": 49,
   "metadata": {},
   "outputs": [
    {
     "name": "stdout",
     "output_type": "stream",
     "text": [
      "test 0.949740034662\n"
     ]
    }
   ],
   "source": [
    "model = LinearSVC(C=3,loss='hinge',random_state=SEED)\n",
    "model.fit(X_train,y_train)\n",
    "\n",
    "X_test = tfidf.transform(df_test.text)\n",
    "y_pred = model.predict(X_test)\n",
    "y_test = label_enc.transform(df_test.target)\n",
    "print('test', metrics.f1_score(y_test,model.predict(X_test)))"
   ]
  }
 ],
 "metadata": {
  "kernelspec": {
   "display_name": "Python 3",
   "language": "python",
   "name": "python3"
  },
  "language_info": {
   "codemirror_mode": {
    "name": "ipython",
    "version": 3
   },
   "file_extension": ".py",
   "mimetype": "text/x-python",
   "name": "python",
   "nbconvert_exporter": "python",
   "pygments_lexer": "ipython3",
   "version": "3.6.3"
  },
  "widgets": {
   "state": {},
   "version": "1.1.2"
  }
 },
 "nbformat": 4,
 "nbformat_minor": 2
}
